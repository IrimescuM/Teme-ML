{
 "cells": [
  {
   "cell_type": "markdown",
   "metadata": {},
   "source": [
    "For the double list of numbers in numbers.txt\n",
    "1. Sum the numbers on each line.\n",
    "1. Sum all the numbers.\n",
    "1. Concatenate them all into a single list.\n",
    "1. Count how many of them are larger than 30.1.\n",
    "1. For each natural number threshold from 1 to 100 show how many numbers are smaller than it."
   ]
  },
  {
   "cell_type": "code",
   "execution_count": 1,
   "metadata": {},
   "outputs": [
    {
     "name": "stdout",
     "output_type": "stream",
     "text": [
      "[[10.0, 15.0, 20.0, 30.0], [20.0, 25.0, 50.0, 80.0], [50.0, 54.0, 55.0, 70.0], [30.0, 35.0, 60.0, 13.0], [40.0, 45.0, 70.0, 30.0], [60.0, 66.0, 12.0, 17.0]]\n"
     ]
    }
   ],
   "source": [
    "f = open('numbers.txt','r')\n",
    "\n",
    "def process_line(line):\n",
    "    return list(map(float,   str.split(line[:-1], ',')   ))\n",
    "    \n",
    "nums = [process_line(line) for line in f]\n",
    "print(nums)\n",
    "\n",
    "f.close()"
   ]
  },
  {
   "cell_type": "code",
   "execution_count": 6,
   "metadata": {},
   "outputs": [
    {
     "name": "stdout",
     "output_type": "stream",
     "text": [
      "75.0\n",
      "175.0\n",
      "229.0\n",
      "138.0\n",
      "185.0\n",
      "155.0\n"
     ]
    }
   ],
   "source": [
    "#Sum the numbers on each line\n",
    "from functools import reduce\n",
    "def sum(x,y):\n",
    "    return x+y\n",
    "for i in range(len(nums)):\n",
    "    print(reduce(sum,nums[i]))"
   ]
  },
  {
   "cell_type": "code",
   "execution_count": 7,
   "metadata": {},
   "outputs": [
    {
     "name": "stdout",
     "output_type": "stream",
     "text": [
      "957.0\n",
      "13\n",
      "[10.0, 15.0, 20.0, 30.0, 20.0, 25.0, 50.0, 80.0, 50.0, 54.0, 55.0, 70.0, 30.0, 35.0, 60.0, 13.0, 40.0, 45.0, 70.0, 30.0, 60.0, 66.0, 12.0, 17.0]\n"
     ]
    }
   ],
   "source": [
    "#Sum all the numbers + Concatenate them all into a single list + Count how many of them are larger than 30.1\n",
    "sum=0;\n",
    "sum30=0;\n",
    "newList = [];\n",
    "for x in nums:\n",
    "    for y in x:\n",
    "        sum+=y;\n",
    "        newList.append(y);\n",
    "        if y>30.1:\n",
    "            sum30+=1;\n",
    "print(sum);\n",
    "print(sum30);\n",
    "print(newList);"
   ]
  },
  {
   "cell_type": "code",
   "execution_count": 8,
   "metadata": {},
   "outputs": [
    {
     "name": "stdout",
     "output_type": "stream",
     "text": [
      "1 0\n",
      "2 0\n",
      "3 0\n",
      "4 0\n",
      "5 0\n",
      "6 0\n",
      "7 0\n",
      "8 0\n",
      "9 0\n",
      "10 0\n",
      "11 1\n",
      "12 1\n",
      "13 2\n",
      "14 3\n",
      "15 3\n",
      "16 4\n",
      "17 4\n",
      "18 5\n",
      "19 5\n",
      "20 5\n",
      "21 7\n",
      "22 7\n",
      "23 7\n",
      "24 7\n",
      "25 7\n",
      "26 8\n",
      "27 8\n",
      "28 8\n",
      "29 8\n",
      "30 8\n",
      "31 11\n",
      "32 11\n",
      "33 11\n",
      "34 11\n",
      "35 11\n",
      "36 12\n",
      "37 12\n",
      "38 12\n",
      "39 12\n",
      "40 12\n",
      "41 13\n",
      "42 13\n",
      "43 13\n",
      "44 13\n",
      "45 13\n",
      "46 14\n",
      "47 14\n",
      "48 14\n",
      "49 14\n",
      "50 14\n",
      "51 16\n",
      "52 16\n",
      "53 16\n",
      "54 16\n",
      "55 17\n",
      "56 18\n",
      "57 18\n",
      "58 18\n",
      "59 18\n",
      "60 18\n",
      "61 20\n",
      "62 20\n",
      "63 20\n",
      "64 20\n",
      "65 20\n",
      "66 20\n",
      "67 21\n",
      "68 21\n",
      "69 21\n",
      "70 21\n",
      "71 23\n",
      "72 23\n",
      "73 23\n",
      "74 23\n",
      "75 23\n",
      "76 23\n",
      "77 23\n",
      "78 23\n",
      "79 23\n",
      "80 23\n",
      "81 24\n",
      "82 24\n",
      "83 24\n",
      "84 24\n",
      "85 24\n",
      "86 24\n",
      "87 24\n",
      "88 24\n",
      "89 24\n",
      "90 24\n",
      "91 24\n",
      "92 24\n",
      "93 24\n",
      "94 24\n",
      "95 24\n",
      "96 24\n",
      "97 24\n",
      "98 24\n",
      "99 24\n",
      "100 24\n"
     ]
    }
   ],
   "source": [
    "#For each natural number threshold from 1 to 100 show how many numbers are smaller than it.\n",
    "for i in range(1,101):\n",
    "    auxSum=0;\n",
    "    for x in nums:\n",
    "        for y in x:\n",
    "            if y<i:\n",
    "                auxSum+=1\n",
    "    print (i,end=\" \"), print(auxSum);"
   ]
  },
  {
   "cell_type": "code",
   "execution_count": null,
   "metadata": {},
   "outputs": [],
   "source": []
  }
 ],
 "metadata": {
  "celltoolbar": "Slideshow",
  "kernelspec": {
   "display_name": "Python 3",
   "language": "python",
   "name": "python3"
  },
  "language_info": {
   "codemirror_mode": {
    "name": "ipython",
    "version": 3
   },
   "file_extension": ".py",
   "mimetype": "text/x-python",
   "name": "python",
   "nbconvert_exporter": "python",
   "pygments_lexer": "ipython3",
   "version": "3.7.0"
  }
 },
 "nbformat": 4,
 "nbformat_minor": 2
}
